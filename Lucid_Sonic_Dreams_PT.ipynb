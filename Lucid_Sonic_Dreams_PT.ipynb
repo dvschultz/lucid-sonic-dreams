{
  "nbformat": 4,
  "nbformat_minor": 0,
  "metadata": {
    "colab": {
      "name": "Lucid-Sonic-Dreams-PT.ipynb",
      "private_outputs": true,
      "provenance": [],
      "collapsed_sections": [],
      "include_colab_link": true
    },
    "kernelspec": {
      "name": "python3",
      "display_name": "Python 3"
    },
    "language_info": {
      "name": "python"
    },
    "accelerator": "GPU"
  },
  "cells": [
    {
      "cell_type": "markdown",
      "metadata": {
        "id": "view-in-github",
        "colab_type": "text"
      },
      "source": [
        "<a href=\"https://colab.research.google.com/github/dvschultz/lucid-sonic-dreams/blob/main/Lucid_Sonic_Dreams_PT.ipynb\" target=\"_parent\"><img src=\"https://colab.research.google.com/assets/colab-badge.svg\" alt=\"Open In Colab\"/></a>"
      ]
    },
    {
      "cell_type": "markdown",
      "metadata": {
        "id": "48kbtYqOVIT_"
      },
      "source": [
        "# Lucid Sonic Dreams\n",
        "\n",
        "This is a modified version of [Lucid Sonic Dreams](https://github.com/mikaelalafriz/lucid-sonic-dreams) (a modification of the [PyTorch version here](https://github.com/NotNANtoN/lucid-sonic-dreams).) It allows you to modify the output of a StyleGAN-ADA-PyTorch model with an audio signal.\n",
        "\n",
        "Much of the documentation included here comes directly from [the LSD notebook](https://colab.research.google.com/drive/1Y5i50xSFIuN3V4Md8TB30_GOAtts7RQD). Note that I’ve modified the repo used here so that notebook and this one are not 1:1 compatible."
      ]
    },
    {
      "cell_type": "markdown",
      "metadata": {
        "id": "xjElY0RNVfYi"
      },
      "source": [
        "##Setup"
      ]
    },
    {
      "cell_type": "code",
      "metadata": {
        "id": "HXuxyuiGT601"
      },
      "source": [
        "!nvidia-smi -L"
      ],
      "execution_count": null,
      "outputs": []
    },
    {
      "cell_type": "markdown",
      "metadata": {
        "id": "5OTxcJayA2WC"
      },
      "source": [
        "Once you’ve restarted jump down here and continue the setup."
      ]
    },
    {
      "cell_type": "code",
      "metadata": {
        "id": "-uf0rSeYTzeo"
      },
      "source": [
        "%cd /content/\n",
        "!git clone https://github.com/dvschultz/lucid-sonic-dreams\n",
        "!pip install pygit2 mega.py ninja\n",
        "%cd /content/lucid-sonic-dreams"
      ],
      "execution_count": null,
      "outputs": []
    },
    {
      "cell_type": "markdown",
      "metadata": {
        "id": "Xni4T-hoA7f6"
      },
      "source": [
        "It’s optional if you want to sync your files to Drive."
      ]
    },
    {
      "cell_type": "code",
      "metadata": {
        "id": "p4yJoJdRjQfa"
      },
      "source": [
        "from google.colab import drive\n",
        "drive.mount('/content/drive')"
      ],
      "execution_count": null,
      "outputs": []
    },
    {
      "cell_type": "markdown",
      "metadata": {
        "id": "MPhK1ykwVhtI"
      },
      "source": [
        "## Download a StyleGAN model\n",
        "\n",
        "You can either download a model, or use the path to your own trained model"
      ]
    },
    {
      "cell_type": "code",
      "metadata": {
        "id": "kmLcgWHoJ7cA"
      },
      "source": [
        "from lucidsonicdreams import show_styles \n",
        "\n",
        "# Show valid default style names. \n",
        "show_styles()"
      ],
      "execution_count": null,
      "outputs": []
    },
    {
      "cell_type": "code",
      "metadata": {
        "id": "R_eZTvCoV_ob"
      },
      "source": [
        "# trees, padded (512)\n",
        "!gdown --id 12WS9F0S4yzZQERy4dsN-3ZoEzHPAViMP\n",
        "# drawn minerals (1024)\n",
        "#!gdown --id 1YKkozuo2Ik_SGMwh-mFH0I9ZzCN2_gTn"
      ],
      "execution_count": null,
      "outputs": []
    },
    {
      "cell_type": "markdown",
      "metadata": {
        "id": "RrCrcKy-V3XN"
      },
      "source": [
        "## Run\n",
        "\n",
        "1. Upload an mp3 to Colab.\n",
        "2. Edit the paths below to point to your mp3, your .pkl file, and then an output path.\n",
        "3. Run the cell."
      ]
    },
    {
      "cell_type": "markdown",
      "metadata": {
        "id": "IDeKs_2Xk_Qi"
      },
      "source": [
        "### So, how does it work? \n",
        "\n",
        "1. First, a batch of input vectors corresponding to output images is initialized. Linear interpolations between these vectors are produced, serving as the \"base\" vectors.\n",
        "2. Three components react to the audio: **Pulse**, **Motion**, and **Class**. These modify the \"base\" vectors accordingly.\n",
        "\n",
        "  *   **Pulse**, quite literally, refers to how the visuals \"pulse\" to the beat of the music. It is set to react to the audio's percussive elements by default. \n",
        "  *   **Motion** refers to how the visuals are \"pushed forward\" or \"sped up\" by the music, and is set to react to the audio's harmonic elements by default. \n",
        "3. Finally, additional effects - such as contrast and flash - are added to the video. These are set to react to the audio's percussive elements by default."
      ]
    },
    {
      "cell_type": "code",
      "metadata": {
        "id": "N8lvKO_VvoAN"
      },
      "source": [
        "from lucidsonicdreams import LucidSonicDream\n",
        "\n",
        "L = LucidSonicDream(song = '/content/1467_Empty_Love_feat__Ed_Thomas.mp3', #mp3 here\n",
        "                    style = 'abstract art') #pkl path here\n",
        "\n",
        "L.hallucinate(file_name = '/content/basic-lsd.mp4', #output path here\n",
        "              start = 0,\n",
        "              duration=10,  \n",
        "              speed_fpm = 12,\n",
        "              pulse_percussive = True,\n",
        "              pulse_harmonic= False,\n",
        "              pulse_react = 1.0,\n",
        "              motion_harmonic = True,\n",
        "              motion_percussive = False,\n",
        "              random_seed=1,\n",
        "              ) "
      ],
      "execution_count": null,
      "outputs": []
    },
    {
      "cell_type": "code",
      "metadata": {
        "id": "mt7Ojy1HtZP3"
      },
      "source": [
        "from IPython.display import YouTubeVideo\n",
        "\n",
        "YouTubeVideo('1hhIare4VaA')"
      ],
      "execution_count": null,
      "outputs": []
    },
    {
      "cell_type": "markdown",
      "metadata": {
        "id": "nNU1l4p9Qwnh"
      },
      "source": [
        "## Source Separation of Audio Track\n",
        "\n",
        "While an mp3 will work fine with Lucid Sonic Dreams, it will work better if you separate your song into individual tracks. We’ll use a tool called demucs to turn our single mp3 into individual tracks: drums, bass, vocals, and \"other\" (melody)."
      ]
    },
    {
      "cell_type": "code",
      "metadata": {
        "id": "vIdB6MPIRWOm"
      },
      "source": [
        "!pip install --no-deps torchaudio==0.9.1 julius diffq\n",
        "!pip install tqdm lameenc\n",
        "!pip install --no-deps demucs"
      ],
      "execution_count": null,
      "outputs": []
    },
    {
      "cell_type": "code",
      "metadata": {
        "id": "9bV7amU9SLNU"
      },
      "source": [
        "!python -m demucs.separate -h"
      ],
      "execution_count": null,
      "outputs": []
    },
    {
      "cell_type": "markdown",
      "metadata": {
        "id": "hrnvoJN2wvCC"
      },
      "source": [
        "There are a number of models you can use using the `-n` argument. A list is available [here](https://github.com/facebookresearch/demucs#separating-tracks)."
      ]
    },
    {
      "cell_type": "code",
      "metadata": {
        "id": "2ggqIPSVSIIV"
      },
      "source": [
        "!python -m demucs.separate \\\n",
        "-o /content/demucs_separated/ \\\n",
        "-n demucs_extra \\\n",
        "--mp3 --mp3-bitrate=320 \\\n",
        "/content/1467_Empty_Love_feat__Ed_Thomas.mp3"
      ],
      "execution_count": null,
      "outputs": []
    },
    {
      "cell_type": "markdown",
      "metadata": {
        "id": "VJYY526EVqnQ"
      },
      "source": [
        "There are even more examples and documentation in [this notebook](https://colab.research.google.com/drive/1Y5i50xSFIuN3V4Md8TB30_GOAtts7RQD).\n",
        "\n",
        "(Note: your PyTorch model will not work with that notebook, but you can cut and paste code from there into here to run it.)"
      ]
    },
    {
      "cell_type": "markdown",
      "metadata": {
        "id": "DVxoN2eyoZHU"
      },
      "source": [
        "### Reactive Motion\n",
        "* **speed_fpm** (*Default: 12*) - FPM stands for \"Frames per Minute\". This determines how many images are initialized - the more there are, the faster the visuals morph. If **speed_fpm = 0**, then only one image is initialized, and that single image reacts to the audio. In this case, there will be no motion during silent parts of the audio.\n",
        "*   **motion_react** (*Default: 0.5*) - The \"strength\" of the motion. It is recommended to keep this between 0 and 2."
      ]
    },
    {
      "cell_type": "code",
      "metadata": {
        "id": "J6iHVWQBwfGq"
      },
      "source": [
        "from lucidsonicdreams import LucidSonicDream\n",
        "from PIL import ImageEnhance\n",
        "\n",
        "L = LucidSonicDream(song = '/content/demucs_separated/demucs_extra/1467_Empty_Love_feat__Ed_Thomas/vocals.mp3',\n",
        "                    pulse_audio = None,\n",
        "                    motion_audio = '/content/demucs_separated/demucs_extra/1467_Empty_Love_feat__Ed_Thomas/vocals.mp3',\n",
        "                    contrast_audio = None,\n",
        "                    flash_audio = None,\n",
        "                    style = 'abstract art')\n",
        "\n",
        "L.hallucinate('sourceseparated-lsd_motion-vocals.mp4',\n",
        "              start = 0, \n",
        "              duration = 10, \n",
        "              speed_fpm = 12,\n",
        "              motion_react = 1.0,\n",
        "              truncation = 1.0,\n",
        "              pulse_react = 0.0,\n",
        "              pulse_percussive = False,\n",
        "              contrast_percussive = False,\n",
        "              fps = 24, \n",
        "              flash_percussive = False,\n",
        "              )"
      ],
      "execution_count": null,
      "outputs": []
    },
    {
      "cell_type": "code",
      "metadata": {
        "id": "14ZiyeuoyP5t"
      },
      "source": [
        "YouTubeVideo('VZKDNq8IVLs')"
      ],
      "execution_count": null,
      "outputs": []
    },
    {
      "cell_type": "markdown",
      "metadata": {
        "id": "uwok-sBJfHtC"
      },
      "source": [
        "## Reactive Pulse\n",
        "\n",
        "*   **pulse_react** (*Default: 0.5*) - The \"strength\" of the pulse. It is recommended to keep this between 0 and 2."
      ]
    },
    {
      "cell_type": "code",
      "metadata": {
        "id": "9sXzqXlZh1do"
      },
      "source": [
        "from lucidsonicdreams import LucidSonicDream\n",
        "\n",
        "L = LucidSonicDream(song = '/content/demucs_separated/demucs_extra/1467_Empty_Love_feat__Ed_Thomas/drums.mp3',\n",
        "                    pulse_audio = '/content/demucs_separated/demucs_extra/1467_Empty_Love_feat__Ed_Thomas/drums.mp3',\n",
        "                    motion_audio = '/content/demucs_separated/demucs_extra/1467_Empty_Love_feat__Ed_Thomas/vocals.mp3',\n",
        "                    contrast_audio = None,\n",
        "                    flash_audio = None,\n",
        "                    style = 'abstract art')\n",
        "\n",
        "L.hallucinate('/conent/sourceseparated-lsd_pulse-drums-2.0.mp4',\n",
        "              start = 0, \n",
        "              duration = 10, \n",
        "              speed_fpm = 0, # 12\n",
        "              pulse_react = 1.5, # 0-2.0\n",
        "              motion_react = 0.0,\n",
        "              contrast_percussive = False,\n",
        "              fps = 24, \n",
        "              flash_percussive = False,\n",
        "              )"
      ],
      "execution_count": null,
      "outputs": []
    },
    {
      "cell_type": "code",
      "metadata": {
        "id": "asIfZk2-ylth"
      },
      "source": [
        "YouTubeVideo('knOF8Hv3Ogk')"
      ],
      "execution_count": null,
      "outputs": []
    },
    {
      "cell_type": "markdown",
      "metadata": {
        "id": "QLOiYNP1ynLH"
      },
      "source": [
        "Once we find a setting we like, we can combine our previous motion settings with the new pulse settings."
      ]
    },
    {
      "cell_type": "markdown",
      "metadata": {
        "id": "Mr2wtY4Ry3ya"
      },
      "source": [
        "If you want to combine two of the separated tracks you can use ffmmpeg:"
      ]
    },
    {
      "cell_type": "code",
      "metadata": {
        "id": "O_j0j_PoyzVE"
      },
      "source": [
        "!ffmpeg -i /content/demucs_separated/demucs_extra/1467_Empty_Love_feat__Ed_Thomas/drums.mp3 \\\n",
        "-i /content/demucs_separated/demucs_extra/1467_Empty_Love_feat__Ed_Thomas/vocals.mp3 \\\n",
        "-filter_complex amix=inputs=2:duration=longest \\\n",
        "/content/demucs_separated/demucs_extra/1467_Empty_Love_feat__Ed_Thomas/vocals+drums.mp3"
      ],
      "execution_count": null,
      "outputs": []
    },
    {
      "cell_type": "code",
      "metadata": {
        "id": "pVGxLxsIjwc5"
      },
      "source": [
        "from lucidsonicdreams import LucidSonicDream\n",
        "\n",
        "L = LucidSonicDream(song = '/content/demucs_separated/demucs_extra/1467_Empty_Love_feat__Ed_Thomas/vocals+drums.mp3',\n",
        "                    pulse_audio = '/content/demucs_separated/demucs_extra/1467_Empty_Love_feat__Ed_Thomas/drums.mp3',\n",
        "                    motion_audio = '/content/demucs_separated/demucs_extra/1467_Empty_Love_feat__Ed_Thomas/vocals.mp3',\n",
        "                    contrast_audio = None,\n",
        "                    flash_audio = None,\n",
        "                    style = 'abstract art')\n",
        "\n",
        "L.hallucinate('sourceseparated-lsd_vocals+drums.mp4',\n",
        "              start = 0, \n",
        "              duration = 45, \n",
        "              speed_fpm = 12, # 12\n",
        "              pulse_react = 1.5, # 0-2.0\n",
        "              motion_react = 1.0,\n",
        "              contrast_percussive = False,\n",
        "              fps = 24, \n",
        "              flash_percussive = False\n",
        "              )"
      ],
      "execution_count": null,
      "outputs": []
    },
    {
      "cell_type": "code",
      "metadata": {
        "id": "c6k4sfmF0k0g"
      },
      "source": [
        "YouTubeVideo('MkFH8Ck5Xts')"
      ],
      "execution_count": null,
      "outputs": []
    },
    {
      "cell_type": "markdown",
      "metadata": {
        "id": "YHcTZNgB0Gnw"
      },
      "source": [
        "### Final Touches\n",
        "\n",
        "*   **contrast_strength** (*Default: 0.5*) - Strength of default contrast effect. It is recommended to keep this between 0 and 1.\n",
        "*   **flash_strength** (*0.5*) - Strength of default flash effect. It is recommended to keep these between 0 and 1."
      ]
    },
    {
      "cell_type": "markdown",
      "metadata": {
        "id": "owYppBL-Bltt"
      },
      "source": [
        "Again, let’s isolate the variables to see exactly what happens."
      ]
    },
    {
      "cell_type": "code",
      "metadata": {
        "id": "AqhTH8sX9DL7"
      },
      "source": [
        "from lucidsonicdreams import LucidSonicDream\n",
        "\n",
        "L = LucidSonicDream(song = '/content/demucs_separated/demucs_extra/1467_Empty_Love_feat__Ed_Thomas/drums.mp3',\n",
        "                    pulse_audio = None,\n",
        "                    motion_audio = None,\n",
        "                    contrast_audio = '/content/demucs_separated/demucs_extra/1467_Empty_Love_feat__Ed_Thomas/drums.mp3',\n",
        "                    flash_audio = '/content/demucs_separated/demucs_extra/1467_Empty_Love_feat__Ed_Thomas/drums.mp3',\n",
        "                    style = 'abstract art')\n",
        "\n",
        "L.hallucinate('sourceseparated-lsd_contrast.mp4',\n",
        "              start = 0, \n",
        "              duration = 45, \n",
        "              speed_fpm = 0,\n",
        "              pulse_react = 0,\n",
        "              motion_react = 0.0,\n",
        "              contrast_strength = 1.0,\n",
        "              fps = 24, \n",
        "              flash_strength = 0.0,\n",
        "              truncation = 0.7,\n",
        "              random_seed = 0\n",
        "              )"
      ],
      "execution_count": null,
      "outputs": []
    },
    {
      "cell_type": "code",
      "metadata": {
        "id": "Qcv_mlFHGhVg"
      },
      "source": [
        "YouTubeVideo('BOujZ4ruGY0')"
      ],
      "execution_count": null,
      "outputs": []
    },
    {
      "cell_type": "code",
      "metadata": {
        "id": "m4Rwdw0OB0TK"
      },
      "source": [
        "from lucidsonicdreams import LucidSonicDream\n",
        "\n",
        "L = LucidSonicDream(song = '/content/demucs_separated/demucs_extra/1467_Empty_Love_feat__Ed_Thomas/drums.mp3',\n",
        "                    pulse_audio = None,\n",
        "                    motion_audio = None,\n",
        "                    contrast_audio = '/content/demucs_separated/demucs_extra/1467_Empty_Love_feat__Ed_Thomas/drums.mp3',\n",
        "                    flash_audio = '/content/demucs_separated/demucs_extra/1467_Empty_Love_feat__Ed_Thomas/drums.mp3',\n",
        "                    style = 'abstract art')\n",
        "\n",
        "L.hallucinate('sourceseparated-lsd_effects.mp4',\n",
        "              start = 0, \n",
        "              duration = 45, \n",
        "              speed_fpm = 0,\n",
        "              pulse_react = 0,\n",
        "              motion_react = 0.0,\n",
        "              contrast_strength = 1.0,\n",
        "              fps = 24, \n",
        "              flash_strength = 1.0,\n",
        "              truncation = 0.7,\n",
        "              random_seed = 0\n",
        "              )"
      ],
      "execution_count": null,
      "outputs": []
    },
    {
      "cell_type": "code",
      "metadata": {
        "id": "_nqV_AtpBkkM"
      },
      "source": [
        "YouTubeVideo('XThn9gna1t0')"
      ],
      "execution_count": null,
      "outputs": []
    },
    {
      "cell_type": "code",
      "metadata": {
        "id": "6QSi_Q4oyMK8"
      },
      "source": [
        "from lucidsonicdreams import LucidSonicDream\n",
        "\n",
        "L = LucidSonicDream(song = '/content/1467_Empty_Love_feat__Ed_Thomas.mp3',\n",
        "                    pulse_audio = '/content/demucs_separated/demucs_extra/1467_Empty_Love_feat__Ed_Thomas/drums.mp3',\n",
        "                    motion_audio = '/content/demucs_separated/demucs_extra/1467_Empty_Love_feat__Ed_Thomas/vocals.mp3',\n",
        "                    contrast_audio = '/content/demucs_separated/demucs_extra/1467_Empty_Love_feat__Ed_Thomas/drums.mp3',\n",
        "                    flash_audio = '/content/demucs_separated/demucs_extra/1467_Empty_Love_feat__Ed_Thomas/drums.mp3',\n",
        "                    style = 'abstract art')\n",
        "\n",
        "L.hallucinate('sourceseparated-lsd_final.mp4',\n",
        "              start = 0, \n",
        "              duration = 45, \n",
        "              speed_fpm = 12,\n",
        "              pulse_react = 1.5,\n",
        "              motion_react = 0.75,\n",
        "              contrast_strength = 0.75,\n",
        "              fps = 24, \n",
        "              flash_strength = 0.5,\n",
        "              truncation = 0.7\n",
        "              )"
      ],
      "execution_count": null,
      "outputs": []
    },
    {
      "cell_type": "code",
      "metadata": {
        "id": "swOl60w-yTyW"
      },
      "source": [
        "YouTubeVideo('3N61h9RMbcU')"
      ],
      "execution_count": null,
      "outputs": []
    },
    {
      "cell_type": "code",
      "metadata": {
        "id": "IuLhgOSNG3O8"
      },
      "source": [
        ""
      ],
      "execution_count": null,
      "outputs": []
    }
  ]
}